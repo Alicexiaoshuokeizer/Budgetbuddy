{
 "cells": [
  {
   "cell_type": "code",
   "execution_count": 121,
   "metadata": {},
   "outputs": [],
   "source": [
    "import pandas as pd"
   ]
  },
  {
   "cell_type": "code",
   "execution_count": 122,
   "metadata": {},
   "outputs": [
    {
     "name": "stdout",
     "output_type": "stream",
     "text": [
      "The sql extension is already loaded. To reload it, use:\n",
      "  %reload_ext sql\n"
     ]
    }
   ],
   "source": [
    "import sqlite3\n",
    "con = sqlite3.connect('./data/Budget.db')\n",
    "cur = con.cursor()\n",
    "%load_ext sql\n",
    "%sql sqlite:///./data/Budget.db"
   ]
  },
  {
   "cell_type": "code",
   "execution_count": 123,
   "metadata": {},
   "outputs": [],
   "source": [
    "df_sample = pd.read_csv('./data/R_STATEMENT_SAMPLE.csv')"
   ]
  },
  {
   "cell_type": "markdown",
   "metadata": {},
   "source": [
    "**Database table structure**\n",
    "\n",
    "<table>\n",
    "    <thead>\n",
    "        <tr>\n",
    "            <th>cid</th>\n",
    "            <th>name</th>\n",
    "            <th>type</th>\n",
    "            <th>notnull</th>\n",
    "            <th>dflt_value</th>\n",
    "            <th>pk</th>\n",
    "        </tr>\n",
    "    </thead>\n",
    "    <tbody>\n",
    "        <tr>\n",
    "            <td>0</td>\n",
    "            <td>transaction_id</td>\n",
    "            <td>INTEGER</td>\n",
    "            <td>1</td>\n",
    "            <td>None</td>\n",
    "            <td>1</td>\n",
    "        </tr>\n",
    "        <tr>\n",
    "            <td>1</td>\n",
    "            <td>date</td>\n",
    "            <td>TEXT</td>\n",
    "            <td>1</td>\n",
    "            <td>None</td>\n",
    "            <td>0</td>\n",
    "        </tr>\n",
    "        <tr>\n",
    "            <td>2</td>\n",
    "            <td>description</td>\n",
    "            <td>TEXT</td>\n",
    "            <td>0</td>\n",
    "            <td>None</td>\n",
    "            <td>0</td>\n",
    "        </tr>\n",
    "        <tr>\n",
    "            <td>3</td>\n",
    "            <td>income</td>\n",
    "            <td>NUMERIC</td>\n",
    "            <td>1</td>\n",
    "            <td>None</td>\n",
    "            <td>0</td>\n",
    "        </tr>\n",
    "        <tr>\n",
    "            <td>4</td>\n",
    "            <td>spent</td>\n",
    "            <td>NUMERIC</td>\n",
    "            <td>1</td>\n",
    "            <td>None</td>\n",
    "            <td>0</td>\n",
    "        </tr>\n",
    "        <tr>\n",
    "            <td>5</td>\n",
    "            <td>balance</td>\n",
    "            <td>NUMERIC</td>\n",
    "            <td>1</td>\n",
    "            <td>None</td>\n",
    "            <td>0</td>\n",
    "        </tr>\n",
    "        <tr>\n",
    "            <td>6</td>\n",
    "            <td>currency</td>\n",
    "            <td>TEXT</td>\n",
    "            <td>1</td>\n",
    "            <td>None</td>\n",
    "            <td>0</td>\n",
    "        </tr>\n",
    "        <tr>\n",
    "            <td>7</td>\n",
    "            <td>event_id</td>\n",
    "            <td>INTEGER</td>\n",
    "            <td>0</td>\n",
    "            <td>None</td>\n",
    "            <td>0</td>\n",
    "        </tr>\n",
    "        <tr>\n",
    "            <td>8</td>\n",
    "            <td>category_id</td>\n",
    "            <td>INTEGER</td>\n",
    "            <td>0</td>\n",
    "            <td>None</td>\n",
    "            <td>0</td>\n",
    "        </tr>\n",
    "    </tbody>\n",
    "</table>"
   ]
  },
  {
   "cell_type": "code",
   "execution_count": 124,
   "metadata": {},
   "outputs": [],
   "source": [
    "df_sample = df_sample.dropna()\n",
    "df_sample['spent'] = 0\n",
    "df_sample['income'] = 0 \n",
    "# df_sample['transaction_id'] = None\n",
    "# # df_sample['event_id'] = None\n",
    "# df_sample['category_id'] = None # i can this in UI as a parameter probabaly"
   ]
  },
  {
   "cell_type": "code",
   "execution_count": null,
   "metadata": {},
   "outputs": [],
   "source": [
    "df_sample.head()"
   ]
  },
  {
   "cell_type": "code",
   "execution_count": 126,
   "metadata": {},
   "outputs": [],
   "source": [
    "def spent_handler(row):\n",
    "    if row['Amount'] < 0:\n",
    "        return row['Amount']\n",
    "    return 0\n",
    "df_sample['spent'] = df_sample.apply(spent_handler, axis=1)"
   ]
  },
  {
   "cell_type": "code",
   "execution_count": 127,
   "metadata": {},
   "outputs": [],
   "source": [
    "def income_handler(row):\n",
    "    if row['Amount'] > 0:\n",
    "        return row['Amount']\n",
    "    return 0\n",
    "df_sample['income'] = df_sample.apply(income_handler, axis=1)"
   ]
  },
  {
   "cell_type": "code",
   "execution_count": 128,
   "metadata": {},
   "outputs": [],
   "source": [
    "get_column = ['Completed Date',\n",
    "              'Description',\n",
    "              'income',\n",
    "              'spent',\n",
    "              'Balance',\n",
    "              'Currency',\n",
    "              'event_id',\n",
    "              'category_id',\n",
    "              ]\n",
    "df= df_sample.filter(get_column)\n",
    "# 'transaction_id',"
   ]
  },
  {
   "cell_type": "code",
   "execution_count": null,
   "metadata": {},
   "outputs": [],
   "source": [
    "df"
   ]
  },
  {
   "cell_type": "code",
   "execution_count": 130,
   "metadata": {},
   "outputs": [],
   "source": [
    "df = df.rename({'Completed Date': 'date', \n",
    "           'Description': 'description',\n",
    "           'Balance': 'balance',\n",
    "           'Currency': 'currency'}, \n",
    "           axis=1)"
   ]
  },
  {
   "cell_type": "code",
   "execution_count": 131,
   "metadata": {},
   "outputs": [],
   "source": [
    "df.to_sql('Transactions', con, if_exists='append', index = False, method='multi')"
   ]
  },
  {
   "cell_type": "code",
   "execution_count": null,
   "metadata": {},
   "outputs": [],
   "source": [
    "%sql select * from Transactions limit 10"
   ]
  },
  {
   "cell_type": "code",
   "execution_count": null,
   "metadata": {},
   "outputs": [],
   "source": []
  }
 ],
 "metadata": {
  "kernelspec": {
   "display_name": "base",
   "language": "python",
   "name": "python3"
  },
  "language_info": {
   "codemirror_mode": {
    "name": "ipython",
    "version": 3
   },
   "file_extension": ".py",
   "mimetype": "text/x-python",
   "name": "python",
   "nbconvert_exporter": "python",
   "pygments_lexer": "ipython3",
   "version": "3.8.8"
  }
 },
 "nbformat": 4,
 "nbformat_minor": 2
}
